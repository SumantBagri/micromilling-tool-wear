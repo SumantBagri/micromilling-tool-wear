version https://git-lfs.github.com/spec/v1
oid sha256:f099467900ec5f33d7665d2c7afa3292d0e8a79c7d1593480ed4f16f67cce869
size 99238
