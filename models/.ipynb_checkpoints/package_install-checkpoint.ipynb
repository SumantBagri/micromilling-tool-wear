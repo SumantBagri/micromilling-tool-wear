version https://git-lfs.github.com/spec/v1
oid sha256:040205698ce02b566f9bc64b7bd267f70bf9dd017580e6690d748052dcb457fa
size 25382
