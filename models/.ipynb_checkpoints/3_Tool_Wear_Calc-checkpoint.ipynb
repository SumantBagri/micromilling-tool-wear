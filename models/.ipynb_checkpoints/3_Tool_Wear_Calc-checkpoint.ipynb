version https://git-lfs.github.com/spec/v1
oid sha256:96a9dca17d5c74a8d9acb999c5a19197f03652532791730ca4142f59fa068e89
size 13538
