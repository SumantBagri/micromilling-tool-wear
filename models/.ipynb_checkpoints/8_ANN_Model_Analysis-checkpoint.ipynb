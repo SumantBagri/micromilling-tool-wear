version https://git-lfs.github.com/spec/v1
oid sha256:af46046d1175249963a6ff822c79d94af542cd1c460b1ce6166b6d1fa8be54e8
size 397230
