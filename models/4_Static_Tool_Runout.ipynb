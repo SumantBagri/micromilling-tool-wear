version https://git-lfs.github.com/spec/v1
oid sha256:073649c3e719851160bc5358a0488f4bb2a7f12bbfda0f60dd7cf34a7ecb3ffa
size 925526
